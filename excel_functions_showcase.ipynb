{
 "cells": [
  {
   "cell_type": "code",
   "execution_count": 1,
   "id": "initial_id",
   "metadata": {
    "ExecuteTime": {
     "end_time": "2023-08-16T00:54:42.869912600Z",
     "start_time": "2023-08-16T00:54:42.526977Z"
    },
    "collapsed": true,
    "jupyter": {
     "outputs_hidden": true
    }
   },
   "outputs": [],
   "source": [
    "import sys\n",
    "import pandas as pd\n",
    "from pathlib import Path\n",
    "import seaborn as sns\n",
    "import matplotlib.pyplot as plt\n",
    "from sklearn.datasets import load_iris, load_wine\n",
    "\n",
    "# append src path to sys.path\n",
    "sys.path.append(str(Path.cwd()/'src'))\n",
    "from add_df_to_excel import add_df_to_excel\n",
    "from add_image_to_excel import add_image_to_excel\n",
    "from save_locked_excel import save_locked_excel"
   ]
  },
  {
   "cell_type": "code",
   "execution_count": 2,
   "id": "5fb17da8b9073459",
   "metadata": {
    "ExecuteTime": {
     "end_time": "2023-08-16T00:54:42.869912600Z",
     "start_time": "2023-08-16T00:54:42.860845200Z"
    },
    "collapsed": false,
    "jupyter": {
     "outputs_hidden": false
    }
   },
   "outputs": [],
   "source": [
    "# GLOBALS\n",
    "OUTPUT_DATA_PATH = Path.cwd()/'data'\n",
    "OUTPUT_FIG_PATH = Path.cwd()/'plot'\n",
    "OUTPUT_DATA_NAME = 'module_test.xlsx'"
   ]
  },
  {
   "cell_type": "markdown",
   "id": "29ff27fb56f2789b",
   "metadata": {},
   "source": [
    "# 1. Load Iris and Boston datasets from sklearn"
   ]
  },
  {
   "cell_type": "code",
   "execution_count": 3,
   "id": "3f0055360be08c94",
   "metadata": {
    "ExecuteTime": {
     "end_time": "2023-08-16T00:54:43.432563200Z",
     "start_time": "2023-08-16T00:54:43.428774400Z"
    },
    "collapsed": false,
    "jupyter": {
     "outputs_hidden": false
    }
   },
   "outputs": [],
   "source": [
    "def load_skl_data(dataset: str): # iris or wine\n",
    "    if dataset == 'iris':\n",
    "        data = load_iris()\n",
    "    elif dataset == 'wine':\n",
    "        data = load_wine()\n",
    "    else:\n",
    "        raise ValueError(f\"Invalid dataset: {dataset}\")\n",
    "\n",
    "    df = pd.DataFrame(data['data'], columns=data['feature_names'])\n",
    "    df['target'] = data['target']\n",
    "    return df"
   ]
  },
  {
   "cell_type": "code",
   "execution_count": 4,
   "id": "aaac92a38061ca5f",
   "metadata": {
    "ExecuteTime": {
     "end_time": "2023-08-16T00:54:43.860854600Z",
     "start_time": "2023-08-16T00:54:43.847116200Z"
    },
    "collapsed": false,
    "jupyter": {
     "outputs_hidden": false
    }
   },
   "outputs": [
    {
     "data": {
      "text/html": [
       "<div>\n",
       "<style scoped>\n",
       "    .dataframe tbody tr th:only-of-type {\n",
       "        vertical-align: middle;\n",
       "    }\n",
       "\n",
       "    .dataframe tbody tr th {\n",
       "        vertical-align: top;\n",
       "    }\n",
       "\n",
       "    .dataframe thead th {\n",
       "        text-align: right;\n",
       "    }\n",
       "</style>\n",
       "<table border=\"1\" class=\"dataframe\">\n",
       "  <thead>\n",
       "    <tr style=\"text-align: right;\">\n",
       "      <th></th>\n",
       "      <th>sepal length (cm)</th>\n",
       "      <th>sepal width (cm)</th>\n",
       "      <th>petal length (cm)</th>\n",
       "      <th>petal width (cm)</th>\n",
       "      <th>target</th>\n",
       "    </tr>\n",
       "  </thead>\n",
       "  <tbody>\n",
       "    <tr>\n",
       "      <th>0</th>\n",
       "      <td>5.1</td>\n",
       "      <td>3.5</td>\n",
       "      <td>1.4</td>\n",
       "      <td>0.2</td>\n",
       "      <td>0</td>\n",
       "    </tr>\n",
       "    <tr>\n",
       "      <th>1</th>\n",
       "      <td>4.9</td>\n",
       "      <td>3.0</td>\n",
       "      <td>1.4</td>\n",
       "      <td>0.2</td>\n",
       "      <td>0</td>\n",
       "    </tr>\n",
       "    <tr>\n",
       "      <th>2</th>\n",
       "      <td>4.7</td>\n",
       "      <td>3.2</td>\n",
       "      <td>1.3</td>\n",
       "      <td>0.2</td>\n",
       "      <td>0</td>\n",
       "    </tr>\n",
       "    <tr>\n",
       "      <th>3</th>\n",
       "      <td>4.6</td>\n",
       "      <td>3.1</td>\n",
       "      <td>1.5</td>\n",
       "      <td>0.2</td>\n",
       "      <td>0</td>\n",
       "    </tr>\n",
       "    <tr>\n",
       "      <th>4</th>\n",
       "      <td>5.0</td>\n",
       "      <td>3.6</td>\n",
       "      <td>1.4</td>\n",
       "      <td>0.2</td>\n",
       "      <td>0</td>\n",
       "    </tr>\n",
       "  </tbody>\n",
       "</table>\n",
       "</div>"
      ],
      "text/plain": [
       "   sepal length (cm)  sepal width (cm)  petal length (cm)  petal width (cm)  \\\n",
       "0                5.1               3.5                1.4               0.2   \n",
       "1                4.9               3.0                1.4               0.2   \n",
       "2                4.7               3.2                1.3               0.2   \n",
       "3                4.6               3.1                1.5               0.2   \n",
       "4                5.0               3.6                1.4               0.2   \n",
       "\n",
       "   target  \n",
       "0       0  \n",
       "1       0  \n",
       "2       0  \n",
       "3       0  \n",
       "4       0  "
      ]
     },
     "execution_count": 4,
     "metadata": {},
     "output_type": "execute_result"
    }
   ],
   "source": [
    "iris = load_skl_data('iris')\n",
    "iris.head()"
   ]
  },
  {
   "cell_type": "code",
   "execution_count": 5,
   "id": "bf0adde4f40ee382",
   "metadata": {
    "ExecuteTime": {
     "end_time": "2023-08-16T00:54:44.644179300Z",
     "start_time": "2023-08-16T00:54:44.629604300Z"
    },
    "collapsed": false,
    "jupyter": {
     "outputs_hidden": false
    }
   },
   "outputs": [
    {
     "data": {
      "text/html": [
       "<div>\n",
       "<style scoped>\n",
       "    .dataframe tbody tr th:only-of-type {\n",
       "        vertical-align: middle;\n",
       "    }\n",
       "\n",
       "    .dataframe tbody tr th {\n",
       "        vertical-align: top;\n",
       "    }\n",
       "\n",
       "    .dataframe thead th {\n",
       "        text-align: right;\n",
       "    }\n",
       "</style>\n",
       "<table border=\"1\" class=\"dataframe\">\n",
       "  <thead>\n",
       "    <tr style=\"text-align: right;\">\n",
       "      <th></th>\n",
       "      <th>alcohol</th>\n",
       "      <th>malic_acid</th>\n",
       "      <th>ash</th>\n",
       "      <th>alcalinity_of_ash</th>\n",
       "      <th>magnesium</th>\n",
       "      <th>total_phenols</th>\n",
       "      <th>flavanoids</th>\n",
       "      <th>nonflavanoid_phenols</th>\n",
       "      <th>proanthocyanins</th>\n",
       "      <th>color_intensity</th>\n",
       "      <th>hue</th>\n",
       "      <th>od280/od315_of_diluted_wines</th>\n",
       "      <th>proline</th>\n",
       "      <th>target</th>\n",
       "    </tr>\n",
       "  </thead>\n",
       "  <tbody>\n",
       "    <tr>\n",
       "      <th>0</th>\n",
       "      <td>14.23</td>\n",
       "      <td>1.71</td>\n",
       "      <td>2.43</td>\n",
       "      <td>15.6</td>\n",
       "      <td>127.0</td>\n",
       "      <td>2.80</td>\n",
       "      <td>3.06</td>\n",
       "      <td>0.28</td>\n",
       "      <td>2.29</td>\n",
       "      <td>5.64</td>\n",
       "      <td>1.04</td>\n",
       "      <td>3.92</td>\n",
       "      <td>1065.0</td>\n",
       "      <td>0</td>\n",
       "    </tr>\n",
       "    <tr>\n",
       "      <th>1</th>\n",
       "      <td>13.20</td>\n",
       "      <td>1.78</td>\n",
       "      <td>2.14</td>\n",
       "      <td>11.2</td>\n",
       "      <td>100.0</td>\n",
       "      <td>2.65</td>\n",
       "      <td>2.76</td>\n",
       "      <td>0.26</td>\n",
       "      <td>1.28</td>\n",
       "      <td>4.38</td>\n",
       "      <td>1.05</td>\n",
       "      <td>3.40</td>\n",
       "      <td>1050.0</td>\n",
       "      <td>0</td>\n",
       "    </tr>\n",
       "    <tr>\n",
       "      <th>2</th>\n",
       "      <td>13.16</td>\n",
       "      <td>2.36</td>\n",
       "      <td>2.67</td>\n",
       "      <td>18.6</td>\n",
       "      <td>101.0</td>\n",
       "      <td>2.80</td>\n",
       "      <td>3.24</td>\n",
       "      <td>0.30</td>\n",
       "      <td>2.81</td>\n",
       "      <td>5.68</td>\n",
       "      <td>1.03</td>\n",
       "      <td>3.17</td>\n",
       "      <td>1185.0</td>\n",
       "      <td>0</td>\n",
       "    </tr>\n",
       "    <tr>\n",
       "      <th>3</th>\n",
       "      <td>14.37</td>\n",
       "      <td>1.95</td>\n",
       "      <td>2.50</td>\n",
       "      <td>16.8</td>\n",
       "      <td>113.0</td>\n",
       "      <td>3.85</td>\n",
       "      <td>3.49</td>\n",
       "      <td>0.24</td>\n",
       "      <td>2.18</td>\n",
       "      <td>7.80</td>\n",
       "      <td>0.86</td>\n",
       "      <td>3.45</td>\n",
       "      <td>1480.0</td>\n",
       "      <td>0</td>\n",
       "    </tr>\n",
       "    <tr>\n",
       "      <th>4</th>\n",
       "      <td>13.24</td>\n",
       "      <td>2.59</td>\n",
       "      <td>2.87</td>\n",
       "      <td>21.0</td>\n",
       "      <td>118.0</td>\n",
       "      <td>2.80</td>\n",
       "      <td>2.69</td>\n",
       "      <td>0.39</td>\n",
       "      <td>1.82</td>\n",
       "      <td>4.32</td>\n",
       "      <td>1.04</td>\n",
       "      <td>2.93</td>\n",
       "      <td>735.0</td>\n",
       "      <td>0</td>\n",
       "    </tr>\n",
       "  </tbody>\n",
       "</table>\n",
       "</div>"
      ],
      "text/plain": [
       "   alcohol  malic_acid   ash  alcalinity_of_ash  magnesium  total_phenols  \\\n",
       "0    14.23        1.71  2.43               15.6      127.0           2.80   \n",
       "1    13.20        1.78  2.14               11.2      100.0           2.65   \n",
       "2    13.16        2.36  2.67               18.6      101.0           2.80   \n",
       "3    14.37        1.95  2.50               16.8      113.0           3.85   \n",
       "4    13.24        2.59  2.87               21.0      118.0           2.80   \n",
       "\n",
       "   flavanoids  nonflavanoid_phenols  proanthocyanins  color_intensity   hue  \\\n",
       "0        3.06                  0.28             2.29             5.64  1.04   \n",
       "1        2.76                  0.26             1.28             4.38  1.05   \n",
       "2        3.24                  0.30             2.81             5.68  1.03   \n",
       "3        3.49                  0.24             2.18             7.80  0.86   \n",
       "4        2.69                  0.39             1.82             4.32  1.04   \n",
       "\n",
       "   od280/od315_of_diluted_wines  proline  target  \n",
       "0                          3.92   1065.0       0  \n",
       "1                          3.40   1050.0       0  \n",
       "2                          3.17   1185.0       0  \n",
       "3                          3.45   1480.0       0  \n",
       "4                          2.93    735.0       0  "
      ]
     },
     "execution_count": 5,
     "metadata": {},
     "output_type": "execute_result"
    }
   ],
   "source": [
    "wine = load_skl_data('wine')\n",
    "wine.head()"
   ]
  },
  {
   "cell_type": "markdown",
   "id": "fc7ff73c28859429",
   "metadata": {},
   "source": [
    "# 2. Save dataframes (add_df_to_excel)"
   ]
  },
  {
   "cell_type": "markdown",
   "id": "198066c1184b1558",
   "metadata": {},
   "source": [
    "## 2.1: create empty and save Iris dataset to excel"
   ]
  },
  {
   "cell_type": "code",
   "execution_count": 6,
   "id": "c2d97cc64d808c86",
   "metadata": {
    "ExecuteTime": {
     "end_time": "2023-08-16T00:54:46.344075300Z",
     "start_time": "2023-08-16T00:54:46.272171500Z"
    },
    "collapsed": false,
    "jupyter": {
     "outputs_hidden": false
    }
   },
   "outputs": [
    {
     "name": "stdout",
     "output_type": "stream",
     "text": [
      "Created C:\\Users\\Qilun\\Desktop\\Lvzhi\\projects\\excel_functions\\data\\module_test.xlsx\n",
      "Created iris in C:\\Users\\Qilun\\Desktop\\Lvzhi\\projects\\excel_functions\\data\\module_test.xlsx\n",
      "iris has been saved to module_test.xlsx at C:\\Users\\Qilun\\Desktop\\Lvzhi\\projects\\excel_functions\\data\n"
     ]
    }
   ],
   "source": [
    "add_df_to_excel(\n",
    "    df=iris,\n",
    "    file_path=OUTPUT_DATA_PATH,\n",
    "    file_name=OUTPUT_DATA_NAME,\n",
    "    new_sheet_name='iris',\n",
    "    if_sheet_exists='replace',  # {‘error’, ‘new’, ‘replace’, ‘overlay’}\n",
    "    create_if_not_exist=True,\n",
    "    keep_index=False\n",
    ")"
   ]
  },
  {
   "cell_type": "markdown",
   "id": "f05511771c5b5fef",
   "metadata": {},
   "source": [
    "## 2.2: append Wine dataset to the same excel"
   ]
  },
  {
   "cell_type": "code",
   "execution_count": 7,
   "id": "9928b267221234a8",
   "metadata": {
    "ExecuteTime": {
     "end_time": "2023-08-16T00:54:47.485656100Z",
     "start_time": "2023-08-16T00:54:47.395467400Z"
    },
    "collapsed": false,
    "jupyter": {
     "outputs_hidden": false
    }
   },
   "outputs": [
    {
     "name": "stdout",
     "output_type": "stream",
     "text": [
      "wine does not exist in C:\\Users\\Qilun\\Desktop\\Lvzhi\\projects\\excel_functions\\data\\module_test.xlsx\n",
      "wine has been saved to module_test.xlsx at C:\\Users\\Qilun\\Desktop\\Lvzhi\\projects\\excel_functions\\data\n"
     ]
    }
   ],
   "source": [
    "add_df_to_excel(\n",
    "    df=wine,\n",
    "    file_path=OUTPUT_DATA_PATH,\n",
    "    file_name=OUTPUT_DATA_NAME,\n",
    "    new_sheet_name='wine',\n",
    "    if_sheet_exists='replace',\n",
    "    create_if_not_exist=False,\n",
    "    keep_index=False\n",
    ")"
   ]
  },
  {
   "cell_type": "markdown",
   "id": "a08f8a847992c573",
   "metadata": {},
   "source": [
    "# 3. Save Plots (add_image_to_excel)"
   ]
  },
  {
   "cell_type": "markdown",
   "id": "1538cb9ac434f963",
   "metadata": {},
   "source": [
    "## 3.1: save Iris plot to excel"
   ]
  },
  {
   "cell_type": "code",
   "execution_count": 8,
   "id": "eb1d291f75699c0d",
   "metadata": {
    "ExecuteTime": {
     "end_time": "2023-08-16T00:54:48.636955100Z",
     "start_time": "2023-08-16T00:54:48.632987300Z"
    },
    "collapsed": false,
    "jupyter": {
     "outputs_hidden": false
    }
   },
   "outputs": [],
   "source": [
    "plt.rcParams['font.sans-serif'] = ['Microsoft YaHei']\n",
    "plt.rcParams['axes.unicode_minus'] = False\n",
    "plt.rcParams['figure.dpi'] = 100\n",
    "plt.rcParams['axes.facecolor']='white'\n",
    "plt.rcParams['savefig.facecolor']='white'"
   ]
  },
  {
   "cell_type": "code",
   "execution_count": 9,
   "id": "3444ac0cf6a255a5",
   "metadata": {
    "ExecuteTime": {
     "end_time": "2023-08-16T00:54:49.256856200Z",
     "start_time": "2023-08-16T00:54:49.248275400Z"
    },
    "collapsed": false,
    "jupyter": {
     "outputs_hidden": false
    }
   },
   "outputs": [],
   "source": [
    "def plot_iris(df: pd.DataFrame, save_path: Path = OUTPUT_FIG_PATH):\n",
    "    plt.figure(figsize=(12, 6))\n",
    "    sns.scatterplot(data=df, x='sepal length (cm)', y='sepal width (cm)', hue='target', palette='viridis')\n",
    "    plt.title('Iris Dataset: Sepal Length vs Sepal Width')\n",
    "    plt.savefig(save_path/'iris_plot.png')"
   ]
  },
  {
   "cell_type": "code",
   "execution_count": 10,
   "id": "99dc0d865c652892",
   "metadata": {
    "ExecuteTime": {
     "end_time": "2023-08-16T00:54:50.094410900Z",
     "start_time": "2023-08-16T00:54:49.602376700Z"
    },
    "collapsed": false,
    "jupyter": {
     "outputs_hidden": false
    }
   },
   "outputs": [
    {
     "data": {
      "image/png": "[encoded data removed]",
      "text/plain": [
       "<Figure size 1200x600 with 1 Axes>"
      ]
     },
     "metadata": {},
     "output_type": "display_data"
    }
   ],
   "source": [
    "plot_iris(iris)"
   ]
  },
  {
   "cell_type": "code",
   "execution_count": 11,
   "id": "f9898176c976079d",
   "metadata": {
    "ExecuteTime": {
     "end_time": "2023-08-16T00:54:52.224982100Z",
     "start_time": "2023-08-16T00:54:52.137150800Z"
    },
    "collapsed": false,
    "jupyter": {
     "outputs_hidden": false
    }
   },
   "outputs": [
    {
     "name": "stdout",
     "output_type": "stream",
     "text": [
      "\n",
      "iris_plot.png added to excel module_test.xlsx, sheet iris\n"
     ]
    }
   ],
   "source": [
    "add_image_to_excel(\n",
    "    position='right',\n",
    "    gap=2,\n",
    "    figsize=(8,4),\n",
    "    dpi=100,\n",
    "    image_path=OUTPUT_FIG_PATH,\n",
    "    image_name='iris_plot.png',\n",
    "    excel_path=OUTPUT_DATA_PATH,\n",
    "    excel_name=OUTPUT_DATA_NAME,\n",
    "    sheet_name='iris',\n",
    ")"
   ]
  },
  {
   "cell_type": "markdown",
   "id": "15e34f46822557c4",
   "metadata": {},
   "source": [
    "## 3.2: save Wine plot to excel"
   ]
  },
  {
   "cell_type": "code",
   "execution_count": 12,
   "id": "461c1c60fb407e44",
   "metadata": {
    "ExecuteTime": {
     "end_time": "2023-08-16T00:54:53.014959Z",
     "start_time": "2023-08-16T00:54:53.008787600Z"
    },
    "collapsed": false,
    "jupyter": {
     "outputs_hidden": false
    }
   },
   "outputs": [],
   "source": [
    "def plot_wine(df: pd.DataFrame,  save_path: Path = OUTPUT_FIG_PATH):\n",
    "    plt.figure(figsize=(8,4))\n",
    "    sns.barplot(x='target', y='alcohol', data=df, palette='viridis')\n",
    "    plt.title('Wine Dataset: Average Alcohol Content by Class')\n",
    "    plt.savefig(save_path/'wine_plot.png')"
   ]
  },
  {
   "cell_type": "code",
   "execution_count": 13,
   "id": "d40469b10fb78acb",
   "metadata": {
    "ExecuteTime": {
     "end_time": "2023-08-16T00:54:53.648196600Z",
     "start_time": "2023-08-16T00:54:53.490226200Z"
    },
    "collapsed": false,
    "jupyter": {
     "outputs_hidden": false
    }
   },
   "outputs": [
    {
     "data": {
      "image/png": "[encoded data removed]",
      "text/plain": [
       "<Figure size 800x400 with 1 Axes>"
      ]
     },
     "metadata": {},
     "output_type": "display_data"
    }
   ],
   "source": [
    "plot_wine(wine)"
   ]
  },
  {
   "cell_type": "code",
   "execution_count": 14,
   "id": "297b245586f4dd16",
   "metadata": {
    "ExecuteTime": {
     "end_time": "2023-08-16T00:54:54.322621300Z",
     "start_time": "2023-08-16T00:54:54.175891700Z"
    },
    "collapsed": false,
    "jupyter": {
     "outputs_hidden": false
    }
   },
   "outputs": [
    {
     "name": "stdout",
     "output_type": "stream",
     "text": [
      "\n",
      "wine_plot.png added to excel module_test.xlsx, sheet wine\n"
     ]
    }
   ],
   "source": [
    "add_image_to_excel(\n",
    "    position='bottom',\n",
    "    gap=2,\n",
    "    figsize=(8,4),\n",
    "    dpi=100,\n",
    "    image_path=OUTPUT_FIG_PATH,\n",
    "    image_name='wine_plot.png',\n",
    "    excel_path=OUTPUT_DATA_PATH,\n",
    "    excel_name=OUTPUT_DATA_NAME,\n",
    "    sheet_name='wine',\n",
    ")"
   ]
  },
  {
   "cell_type": "markdown",
   "id": "c3f1381accd7ec92",
   "metadata": {},
   "source": [
    "# 4. Save locked excel (save_locked_excel)"
   ]
  },
  {
   "cell_type": "code",
   "execution_count": 15,
   "id": "c38eb802f373f46f",
   "metadata": {
    "ExecuteTime": {
     "end_time": "2023-08-16T00:54:56.039810100Z",
     "start_time": "2023-08-16T00:54:56.033830800Z"
    },
    "collapsed": false,
    "jupyter": {
     "outputs_hidden": false
    }
   },
   "outputs": [],
   "source": [
    "def create_output_df():\n",
    "    df = pd.DataFrame({\n",
    "        'col1': ['a', 'b', 'c'],\n",
    "        'col2': ['d', 'e', 'f'],\n",
    "        'col3': [0.001, 0.285, pd.NA],\n",
    "        'link':['https://www.google.com', 'https://www.baidu.com', 'https://www.bing.com']})\n",
    "    return df"
   ]
  },
  {
   "cell_type": "code",
   "execution_count": 16,
   "id": "ac6a9bd1c9ae6145",
   "metadata": {
    "ExecuteTime": {
     "end_time": "2023-08-16T00:54:58.932213700Z",
     "start_time": "2023-08-16T00:54:58.924933Z"
    },
    "collapsed": false,
    "jupyter": {
     "outputs_hidden": false
    }
   },
   "outputs": [
    {
     "data": {
      "text/html": [
       "<div>\n",
       "<style scoped>\n",
       "    .dataframe tbody tr th:only-of-type {\n",
       "        vertical-align: middle;\n",
       "    }\n",
       "\n",
       "    .dataframe tbody tr th {\n",
       "        vertical-align: top;\n",
       "    }\n",
       "\n",
       "    .dataframe thead th {\n",
       "        text-align: right;\n",
       "    }\n",
       "</style>\n",
       "<table border=\"1\" class=\"dataframe\">\n",
       "  <thead>\n",
       "    <tr style=\"text-align: right;\">\n",
       "      <th></th>\n",
       "      <th>col1</th>\n",
       "      <th>col2</th>\n",
       "      <th>col3</th>\n",
       "      <th>link</th>\n",
       "    </tr>\n",
       "  </thead>\n",
       "  <tbody>\n",
       "    <tr>\n",
       "      <th>0</th>\n",
       "      <td>a</td>\n",
       "      <td>d</td>\n",
       "      <td>0.001</td>\n",
       "      <td>https://www.google.com</td>\n",
       "    </tr>\n",
       "    <tr>\n",
       "      <th>1</th>\n",
       "      <td>b</td>\n",
       "      <td>e</td>\n",
       "      <td>0.285</td>\n",
       "      <td>https://www.baidu.com</td>\n",
       "    </tr>\n",
       "    <tr>\n",
       "      <th>2</th>\n",
       "      <td>c</td>\n",
       "      <td>f</td>\n",
       "      <td>&lt;NA&gt;</td>\n",
       "      <td>https://www.bing.com</td>\n",
       "    </tr>\n",
       "  </tbody>\n",
       "</table>\n",
       "</div>"
      ],
      "text/plain": [
       "  col1 col2   col3                    link\n",
       "0    a    d  0.001  https://www.google.com\n",
       "1    b    e  0.285   https://www.baidu.com\n",
       "2    c    f   <NA>    https://www.bing.com"
      ]
     },
     "execution_count": 16,
     "metadata": {},
     "output_type": "execute_result"
    }
   ],
   "source": [
    "output_df = create_output_df()\n",
    "output_df"
   ]
  },
  {
   "cell_type": "markdown",
   "id": "cf0b9551350fcbfb",
   "metadata": {},
   "source": [
    "## 4.1 lock col1,2, coloring col2, validate col3 as decimal, hyperlink link"
   ]
  },
  {
   "cell_type": "code",
   "execution_count": 17,
   "id": "ed03409eff13ee61",
   "metadata": {
    "ExecuteTime": {
     "end_time": "2023-08-16T00:55:00.636785400Z",
     "start_time": "2023-08-16T00:55:00.379037100Z"
    },
    "collapsed": false,
    "jupyter": {
     "outputs_hidden": false
    }
   },
   "outputs": [
    {
     "name": "stdout",
     "output_type": "stream",
     "text": [
      "Created locked_sheet in C:\\Users\\Qilun\\Desktop\\Lvzhi\\projects\\excel_functions\\data\\module_test.xlsx\n",
      "locked_sheet has been saved to module_test.xlsx at C:\\Users\\Qilun\\Desktop\\Lvzhi\\projects\\excel_functions\\data\n",
      "\n",
      "locked columns: ['col1', 'col2']\n",
      "coloring columns: {'col2': '#FFA384'}\n",
      "hyperlinked columns: ['link']\n",
      "validated column: col3 to decimal\n"
     ]
    }
   ],
   "source": [
    "save_locked_excel(\n",
    "    target_df=output_df,\n",
    "    output_path=OUTPUT_DATA_PATH,\n",
    "    output_name=OUTPUT_DATA_NAME,\n",
    "    new_sheet_name='locked_sheet',\n",
    "    excel_password='a_fake_password',\n",
    "    lock_columns=['col1','col2'],\n",
    "    coloring_columns={'col2':'#FFA384'},\n",
    "    link_columns=['link'],\n",
    "    validation_dict={'col3':'decimal'},\n",
    "    validation_kwargs={\n",
    "        'decimal':{\"operator\": \"between\",\n",
    "                   \"formula1\": 0,\n",
    "                   \"formula2\": 1,\n",
    "                   \"showErrorMessage\": True,\n",
    "                   \"errorTitle\": \"Invalid input\",\n",
    "                   \"error\": \"Value must be a decimal between 0 and 1.\"\n",
    "                   }})"
   ]
  },
  {
   "cell_type": "code",
   "execution_count": null,
   "id": "e4a7a1099c25c1a7",
   "metadata": {
    "collapsed": false,
    "jupyter": {
     "outputs_hidden": false
    }
   },
   "outputs": [],
   "source": []
  }
 ],
 "metadata": {
  "kernelspec": {
   "display_name": "Python 3 (ipykernel)",
   "language": "python",
   "name": "python3"
  },
  "language_info": {
   "codemirror_mode": {
    "name": "ipython",
    "version": 3
   },
   "file_extension": ".py",
   "mimetype": "text/x-python",
   "name": "python",
   "nbconvert_exporter": "python",
   "pygments_lexer": "ipython3",
   "version": "3.9.13"
  }
 },
 "nbformat": 4,
 "nbformat_minor": 5
}
